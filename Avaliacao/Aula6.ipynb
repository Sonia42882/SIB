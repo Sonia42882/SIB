{
 "cells": [
  {
   "cell_type": "code",
   "execution_count": 1,
   "metadata": {
    "collapsed": true
   },
   "outputs": [],
   "source": [
    "from si.io.csv import read_csv\n",
    "from si.model_selection.split import train_test_split\n",
    "from si.neighbors.knn_classifier import KNNClassifier\n",
    "from si.linear_model.logistic_regression import LogisticRegression\n",
    "from si.ensemble.stacking_classifier import StackingClassifier\n",
    "from si.ensemble.voting_classifier import VotingClassifier\n",
    "from sklearn.preprocessing import StandardScaler"
   ]
  },
  {
   "cell_type": "code",
   "execution_count": 2,
   "outputs": [
    {
     "name": "stdout",
     "output_type": "stream",
     "text": [
      "0.9784172661870504\n"
     ]
    }
   ],
   "source": [
    "#exercicio dos slides\n",
    "#Usa o dataset breast bin.csv\n",
    "breast_dataset = read_csv('../datasets/breast-bin.csv', features=False, label=True)\n",
    "#Usa o sklearn.preprocessing.StandardScaler para standardizar\n",
    "breast_dataset.X = StandardScaler().fit_transform(breast_dataset.X)\n",
    "#Divide o dataset em treino e teste\n",
    "train_dataset, test_dataset = train_test_split(breast_dataset)\n",
    "#Cria o modelo KNNClassifier\n",
    "knn = KNNClassifier()\n",
    "#Cria o modelo LogisticRegression\n",
    "lg = LogisticRegression(max_iter=2000)\n",
    "#Cria o modelo ensemble VotingClassifier usando os classificadores anteriores\n",
    "voting = VotingClassifier([knn, lg])\n",
    "#Treina o modelo. Qual o score obtido?\n",
    "voting.fit(train_dataset)\n",
    "score = voting.score(test_dataset)\n",
    "print(score)"
   ],
   "metadata": {
    "collapsed": false,
    "pycharm": {
     "name": "#%%\n"
    }
   }
  },
  {
   "cell_type": "code",
   "execution_count": 3,
   "outputs": [
    {
     "name": "stdout",
     "output_type": "stream",
     "text": [
      "0.9784172661870504\n"
     ]
    }
   ],
   "source": [
    "#exercicio 6.2\n",
    "#Usa o dataset breast bin.csv\n",
    "breast_dataset = read_csv('../datasets/breast-bin.csv', features=False, label=True)\n",
    "#Usa o sklearn.preprocessing.StandardScaler para standardizar\n",
    "breast_dataset.X = StandardScaler().fit_transform(breast_dataset.X)\n",
    "#Divide o dataset em treino e teste\n",
    "train_dataset, test_dataset = train_test_split(breast_dataset)\n",
    "#Cria o modelo KNNClassifier\n",
    "knn = KNNClassifier()\n",
    "#Cria o modelo LogisticRegression\n",
    "lg = LogisticRegression(max_iter=2000)\n",
    "#Cria um segundo modelo KNNClassifier\n",
    "knn_final = KNNClassifier()\n",
    "#Cria o modelo StackingClassifier usando os classificadores anteriores\n",
    "stacking = StackingClassifier([knn, lg], knn_final)\n",
    "#Treina o modelo. Qual o score obtido?\n",
    "stacking.fit(train_dataset)\n",
    "score = stacking.score(test_dataset)\n",
    "print(score)\n"
   ],
   "metadata": {
    "collapsed": false,
    "pycharm": {
     "name": "#%%\n"
    }
   }
  }
 ],
 "metadata": {
  "kernelspec": {
   "name": "pycharm-e79b8fed",
   "language": "python",
   "display_name": "PyCharm (sonia)"
  },
  "language_info": {
   "codemirror_mode": {
    "name": "ipython",
    "version": 2
   },
   "file_extension": ".py",
   "mimetype": "text/x-python",
   "name": "python",
   "nbconvert_exporter": "python",
   "pygments_lexer": "ipython2",
   "version": "2.7.6"
  }
 },
 "nbformat": 4,
 "nbformat_minor": 0
}