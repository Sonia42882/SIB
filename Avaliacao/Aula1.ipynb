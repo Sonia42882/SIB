{
 "cells": [
  {
   "cell_type": "code",
   "execution_count": 1,
   "id": "5528e548",
   "metadata": {},
   "outputs": [],
   "source": [
    "import numpy as np\n",
    "import pandas as pd\n",
    "from src.si.io.csv import read_csv\n",
    "from src.si.data.dataset import Dataset"
   ]
  },
  {
   "cell_type": "code",
   "execution_count": 2,
   "id": "054f6778",
   "metadata": {},
   "outputs": [],
   "source": [
    "#1.1\n",
    "#carregar ficheiro iris\n",
    "data = read_csv(\"C:/Users/sonia/SIB/datasets/iris.csv\", sep=',', features=True, label=True)"
   ]
  },
  {
   "cell_type": "code",
   "execution_count": 7,
   "id": "3a0a6800",
   "metadata": {},
   "outputs": [
    {
     "name": "stdout",
     "output_type": "stream",
     "text": [
      "Exercicio 1.2\n",
      "[5.1 4.9 4.7 4.6 5.  5.4 4.6 5.  4.4 4.9 5.4 4.8 4.8 4.3 5.8 5.7 5.4 5.1\n",
      " 5.7 5.1 5.4 5.1 4.6 5.1 4.8 5.  5.  5.2 5.2 4.7 4.8 5.4 5.2 5.5 4.9 5.\n",
      " 5.5 4.9 4.4 5.1 5.  4.5 4.4 5.  5.1 4.8 5.1 4.6 5.3 5.  7.  6.4 6.9 5.5\n",
      " 6.5 5.7 6.3 4.9 6.6 5.2 5.  5.9 6.  6.1 5.6 6.7 5.6 5.8 6.2 5.6 5.9 6.1\n",
      " 6.3 6.1 6.4 6.6 6.8 6.7 6.  5.7 5.5 5.5 5.8 6.  5.4 6.  6.7 6.3 5.6 5.5\n",
      " 5.5 6.1 5.8 5.  5.6 5.7 5.7 6.2 5.1 5.7 6.3 5.8 7.1 6.3 6.5 7.6 4.9 7.3\n",
      " 6.7 7.2 6.5 6.4 6.8 5.7 5.8 6.4 6.5 7.7 7.7 6.  6.9 5.6 7.7 6.3 6.7 7.2\n",
      " 6.2 6.1 6.4 7.2 7.4 7.9 6.4 6.3 6.1 7.7 6.3 6.4 6.  6.9 6.7 6.9 5.8 6.8\n",
      " 6.7 6.7 6.3 6.5 6.2 5.9]\n"
     ]
    }
   ],
   "source": [
    "#1.2\n",
    "#selecciona a primeira variável independente\n",
    "print(\"Exercicio 1.2\")\n",
    "first_independent_variable = data.X[:,0]\n",
    "print(first_independent_variable)"
   ]
  },
  {
   "cell_type": "code",
   "execution_count": 8,
   "id": "41a2a8bf",
   "metadata": {},
   "outputs": [
    {
     "name": "stdout",
     "output_type": "stream",
     "text": [
      "150\n"
     ]
    }
   ],
   "source": [
    "#verifica a dimensão do array resultante\n",
    "print(len(first_independent_variable))"
   ]
  },
  {
   "cell_type": "code",
   "execution_count": 9,
   "id": "1a4ee2d6",
   "metadata": {},
   "outputs": [
    {
     "name": "stdout",
     "output_type": "stream",
     "text": [
      "Exercicio 1.3\n",
      "[[6.7 3.  5.2 2.3]\n",
      " [6.3 2.5 5.  1.9]\n",
      " [6.5 3.  5.2 2. ]\n",
      " [6.2 3.4 5.4 2.3]\n",
      " [5.9 3.  5.1 1.8]]\n"
     ]
    }
   ],
   "source": [
    "#1.3\n",
    "#seleciona as últimas 5 amostras do iris dataset\n",
    "print(\"Exercicio 1.3\")\n",
    "last_five = data.X[-5:]\n",
    "print(last_five)"
   ]
  },
  {
   "cell_type": "code",
   "execution_count": 10,
   "id": "f6a45785",
   "metadata": {},
   "outputs": [
    {
     "name": "stdout",
     "output_type": "stream",
     "text": [
      "['sepal_length', 'sepal_width', 'petal_length']\n",
      "[6.32 2.98 5.18]\n"
     ]
    }
   ],
   "source": [
    "#qual a média das últimas 5 amostras para cada variável independente/feature\n",
    "independent_variables_names = data.features[:-1]\n",
    "#perceber quais são as variáveis independentes\n",
    "print(independent_variables_names)\n",
    "means = data.X[-5:,:-1].mean(axis=0)\n",
    "#atenção - ultima variável não numérica, não se calcula média\n",
    "#axis = 0 -> média por coluna, axis = 1 -> média por linha\n",
    "print(means)"
   ]
  },
  {
   "cell_type": "code",
   "execution_count": 11,
   "id": "ea66139b",
   "metadata": {},
   "outputs": [
    {
     "name": "stdout",
     "output_type": "stream",
     "text": [
      "Exercicio 1.4\n",
      "150\n"
     ]
    }
   ],
   "source": [
    "#1.4\n",
    "#seleciona todas as amostras do dataset com valor superior ou igual a 1 para todas as features\n",
    "print(\"Exercicio 1.4\")\n",
    "arr = data.X\n",
    "mask14 = np.all(arr[:, :-1] >= 1, axis = 1)\n",
    "sol_arr = arr[mask14, :]\n",
    "print(len(sol_arr))"
   ]
  },
  {
   "cell_type": "code",
   "execution_count": 12,
   "id": "4ae91de4",
   "metadata": {},
   "outputs": [
    {
     "name": "stdout",
     "output_type": "stream",
     "text": [
      "Exercicio 1.5\n",
      "New array - Iris-setosa\n",
      "[]\n",
      "0\n"
     ]
    },
    {
     "name": "stderr",
     "output_type": "stream",
     "text": [
      "C:\\Users\\sonia\\anaconda3\\envs\\chemoinformatics\\lib\\site-packages\\ipykernel_launcher.py:5: FutureWarning: elementwise comparison failed; returning scalar instead, but in the future will perform elementwise comparison\n",
      "  \"\"\"\n"
     ]
    }
   ],
   "source": [
    "#1.5\n",
    "#seleciona todas as amostras com a classe/label igual a ‘Iris-setosa’\n",
    "print(\"Exercicio 1.5\")\n",
    "arr = data.X\n",
    "mask_setosa = (data.X[:,-1]==\"Iris-setosa\")\n",
    "new_arr = arr[mask_setosa]\n",
    "print(\"New array - Iris-setosa\")\n",
    "print(new_arr)\n",
    "#quantas amostras obténs?\n",
    "print(len(new_arr))"
   ]
  },
  {
   "cell_type": "code",
   "execution_count": 13,
   "id": "e2a9891e",
   "metadata": {},
   "outputs": [
    {
     "name": "stdout",
     "output_type": "stream",
     "text": [
      "Exercicio 2\n",
      "(150, 4)\n",
      "(134, 4)\n"
     ]
    }
   ],
   "source": [
    "#2 - tentativa para testar os métodos do exercicio2\n",
    "print(\"Exercicio 2\")\n",
    "data2 = read_csv(\"C:/Users/sonia/SIB/datasets/iris_missing_data.csv\", sep=',', features=True, label=True)\n",
    "#tamanho do dataset original\n",
    "sh = data2.shape()\n",
    "print(sh)\n",
    "#retirar os NAs\n",
    "remove_na = data2.dropna()\n",
    "sa = data2.shape()\n",
    "print(sa)"
   ]
  },
  {
   "cell_type": "code",
   "execution_count": 14,
   "id": "39fe75f7",
   "metadata": {},
   "outputs": [
    {
     "name": "stdout",
     "output_type": "stream",
     "text": [
      "sonia\n",
      "        sepal_length  sepal_width  petal_length  petal_width\n",
      "mean        5.839041     3.049655      3.746259     1.213793\n",
      "median      5.800000     3.000000      4.300000     1.300000\n",
      "min         4.300000     2.000000      1.000000     0.100000\n",
      "max         7.900000     4.200000      6.900000     2.500000\n",
      "var         0.697311     0.177534      3.144255     0.575258\n",
      "[[  5.1   3.5   1.4   0.2]\n",
      " [  4.9   3.    1.4   0.2]\n",
      " [  4.7 -20.    1.3   0.2]\n",
      " [  4.6   3.1   1.5   0.2]\n",
      " [  5.    3.6   1.4   0.2]\n",
      " [  5.4   3.9   1.7   0.4]\n",
      " [  4.6   3.4   1.4   0.3]\n",
      " [  5.    3.4   1.5   0.2]\n",
      " [  4.4   2.9   1.4   0.2]\n",
      " [  4.9   3.1   1.5 -20. ]\n",
      " [  5.4   3.7   1.5   0.2]\n",
      " [  4.8   3.4   1.6   0.2]\n",
      " [  4.8   3.    1.4   0.1]\n",
      " [  4.3   3.    1.1   0.1]\n",
      " [  5.8   4.    1.2   0.2]\n",
      " [  5.7 -20.    1.5   0.4]\n",
      " [  5.4   3.9   1.3   0.4]\n",
      " [  5.1   3.5   1.4   0.3]\n",
      " [-20.    3.8   1.7   0.3]\n",
      " [  5.1   3.8   1.5   0.3]\n",
      " [  5.4   3.4   1.7   0.2]\n",
      " [  5.1   3.7   1.5 -20. ]\n",
      " [  4.6   3.6   1.    0.2]\n",
      " [  5.1   3.3   1.7   0.5]\n",
      " [  4.8   3.4   1.9   0.2]\n",
      " [  5.    3.    1.6   0.2]\n",
      " [  5.    3.4   1.6   0.4]\n",
      " [  5.2   3.5   1.5   0.2]\n",
      " [  5.2   3.4   1.4   0.2]\n",
      " [  4.7   3.2   1.6   0.2]\n",
      " [  4.8   3.1   1.6 -20. ]\n",
      " [  5.4   3.4   1.5   0.4]\n",
      " [  5.2   4.1   1.5   0.1]\n",
      " [  5.5   4.2   1.4   0.2]\n",
      " [  4.9   3.1   1.5   0.1]\n",
      " [  5.    3.2   1.2   0.2]\n",
      " [  5.5   3.5   1.3   0.2]\n",
      " [  4.9   3.1   1.5   0.1]\n",
      " [  4.4   3.    1.3   0.2]\n",
      " [  5.1   3.4   1.5   0.2]\n",
      " [  5.    3.5   1.3   0.3]\n",
      " [  4.5   2.3   1.3   0.3]\n",
      " [  4.4   3.2   1.3   0.2]\n",
      " [  5.    3.5   1.6   0.6]\n",
      " [  5.1   3.8   1.9   0.4]\n",
      " [  4.8   3.    1.4   0.3]\n",
      " [  5.1   3.8   1.6   0.2]\n",
      " [  4.6   3.2   1.4   0.2]\n",
      " [  5.3   3.7   1.5   0.2]\n",
      " [  5.    3.3   1.4   0.2]\n",
      " [  7.    3.2   4.7   1.4]\n",
      " [  6.4   3.2   4.5   1.5]\n",
      " [  6.9   3.1   4.9   1.5]\n",
      " [  5.5   2.3   4.    1.3]\n",
      " [  6.5   2.8   4.6   1.5]\n",
      " [  5.7   2.8   4.5   1.3]\n",
      " [  6.3   3.3   4.7   1.6]\n",
      " [  4.9   2.4   3.3   1. ]\n",
      " [  6.6   2.9   4.6   1.3]\n",
      " [  5.2   2.7   3.9   1.4]\n",
      " [  5.    2.    3.5   1. ]\n",
      " [  5.9   3.    4.2   1.5]\n",
      " [  6.    2.2   4.    1. ]\n",
      " [  6.1   2.9   4.7   1.4]\n",
      " [  5.6   2.9   3.6   1.3]\n",
      " [  6.7 -20.    4.4   1.4]\n",
      " [  5.6   3.    4.5   1.5]\n",
      " [  5.8   2.7   4.1   1. ]\n",
      " [  6.2   2.2   4.5   1.5]\n",
      " [  5.6   2.5   3.9   1.1]\n",
      " [  5.9   3.2   4.8   1.8]\n",
      " [  6.1   2.8   4.    1.3]\n",
      " [  6.3   2.5   4.9   1.5]\n",
      " [  6.1   2.8   4.7   1.2]\n",
      " [  6.4   2.9   4.3   1.3]\n",
      " [  6.6   3.    4.4   1.4]\n",
      " [  6.8   2.8   4.8   1.4]\n",
      " [  6.7   3.    5.    1.7]\n",
      " [  6.    2.9   4.5   1.5]\n",
      " [  5.7   2.6   3.5   1. ]\n",
      " [  5.5   2.4 -20.    1.1]\n",
      " [  5.5   2.4   3.7   1. ]\n",
      " [  5.8   2.7   3.9   1.2]\n",
      " [  6.    2.7   5.1   1.6]\n",
      " [  5.4   3.    4.5   1.5]\n",
      " [  6.    3.4 -20.    1.6]\n",
      " [  6.7   3.1   4.7   1.5]\n",
      " [  6.3   2.3   4.4   1.3]\n",
      " [  5.6   3.    4.1   1.3]\n",
      " [  5.5   2.5   4.    1.3]\n",
      " [  5.5   2.6   4.4   1.2]\n",
      " [  6.1   3.    4.6   1.4]\n",
      " [  5.8   2.6   4.  -20. ]\n",
      " [  5.    2.3   3.3   1. ]\n",
      " [  5.6   2.7   4.2   1.3]\n",
      " [  5.7   3.    4.2   1.2]\n",
      " [  5.7   2.9   4.2   1.3]\n",
      " [  6.2   2.9   4.3   1.3]\n",
      " [  5.1   2.5   3.    1.1]\n",
      " [  5.7   2.8   4.1   1.3]\n",
      " [  6.3   3.3   6.    2.5]\n",
      " [-20.  -20.    5.1   1.9]\n",
      " [  7.1   3.    5.9   2.1]\n",
      " [  6.3   2.9   5.6   1.8]\n",
      " [  6.5   3.    5.8   2.2]\n",
      " [  7.6   3.    6.6   2.1]\n",
      " [  4.9   2.5   4.5   1.7]\n",
      " [  7.3   2.9   6.3   1.8]\n",
      " [  6.7   2.5   5.8   1.8]\n",
      " [  7.2   3.6   6.1   2.5]\n",
      " [  6.5   3.2   5.1   2. ]\n",
      " [  6.4   2.7   5.3   1.9]\n",
      " [  6.8   3.    5.5   2.1]\n",
      " [  5.7 -20.    5.    2. ]\n",
      " [  5.8   2.8   5.1   2.4]\n",
      " [  6.4   3.2   5.3   2.3]\n",
      " [  6.5   3.    5.5   1.8]\n",
      " [  7.7   3.8   6.7   2.2]\n",
      " [  7.7   2.6   6.9   2.3]\n",
      " [  6.    2.2   5.    1.5]\n",
      " [  6.9   3.2   5.7   2.3]\n",
      " [  5.6   2.8   4.9   2. ]\n",
      " [  7.7   2.8   6.7   2. ]\n",
      " [  6.3   2.7   4.9   1.8]\n",
      " [  6.7   3.3   5.7   2.1]\n",
      " [  7.2   3.2   6.    1.8]\n",
      " [  6.2   2.8   4.8   1.8]\n",
      " [  6.1   3.    4.9   1.8]\n",
      " [  6.4   2.8   5.6   2.1]\n",
      " [  7.2   3.    5.8   1.6]\n",
      " [  7.4   2.8   6.1 -20. ]\n",
      " [  7.9   3.8   6.4   2. ]\n",
      " [  6.4   2.8   5.6   2.2]\n",
      " [  6.3   2.8   5.1   1.5]\n",
      " [  6.1   2.6   5.6   1.4]\n",
      " [  7.7   3.    6.1   2.3]\n",
      " [  6.3   3.4   5.6   2.4]\n",
      " [  6.4   3.1   5.5   1.8]\n",
      " [  6.    3.  -20.    1.8]\n",
      " [  6.9   3.1   5.4   2.1]\n",
      " [  6.7   3.1   5.6   2.4]\n",
      " [  6.9   3.1   5.1   2.3]\n",
      " [  5.8   2.7   5.1   1.9]\n",
      " [  6.8   3.2   5.9   2.3]\n",
      " [  6.7   3.3   5.7   2.5]\n",
      " [  6.7   3.    5.2   2.3]\n",
      " [-20.    2.5   5.    1.9]\n",
      " [  6.5   3.    5.2   2. ]\n",
      " [-20.    3.4   5.4   2.3]\n",
      " [  5.9   3.    5.1   1.8]]\n",
      "        sepal_length  sepal_width  petal_length  petal_width\n",
      "mean          5.1500     2.281333      3.271333     0.506667\n",
      "median        5.7000     3.000000      4.250000     1.300000\n",
      "min         -20.0000   -20.000000    -20.000000   -20.000000\n",
      "max           7.9000     4.200000      6.900000     2.500000\n",
      "var          18.0081    17.290852     14.133512    15.056889\n"
     ]
    }
   ],
   "source": [
    "print(\"sonia\")\n",
    "data3 = read_csv(\"C:/Users/sonia/SIB/datasets/iris_missing_data.csv\", sep=',', features=True, label=True)\n",
    "print(data3.summary())\n",
    "#substituir NA por valor\n",
    "fn = data3.fillna(value = -20)\n",
    "print(data3.X)\n",
    "print(data3.summary())"
   ]
  }
 ],
 "metadata": {
  "kernelspec": {
   "name": "pycharm-e79b8fed",
   "language": "python",
   "display_name": "PyCharm (sonia)"
  },
  "language_info": {
   "codemirror_mode": {
    "name": "ipython",
    "version": 3
   },
   "file_extension": ".py",
   "mimetype": "text/x-python",
   "name": "python",
   "nbconvert_exporter": "python",
   "pygments_lexer": "ipython3",
   "version": "3.8.8"
  }
 },
 "nbformat": 4,
 "nbformat_minor": 5
}