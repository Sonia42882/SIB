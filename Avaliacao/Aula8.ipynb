{
 "cells": [
  {
   "cell_type": "code",
   "execution_count": 74,
   "metadata": {
    "collapsed": true
   },
   "outputs": [],
   "source": [
    "# imports\n",
    "from si.io.csv import read_csv\n",
    "from si.feature_extraction.k_mer import KMer\n",
    "from si.model_selection.split import train_test_split\n",
    "from si.linear_model.logistic_regression import LogisticRegression\n",
    "from sklearn.preprocessing import StandardScaler"
   ]
  },
  {
   "cell_type": "code",
   "execution_count": 75,
   "metadata": {
    "pycharm": {
     "name": "#%%\n"
    }
   },
   "outputs": [],
   "source": [
    "#exercicio 9\n",
    "#usa o dataset transporters.csv\n",
    "tfbs_dataset = read_csv('../datasets/transporters.csv', features=True, label=True)"
   ]
  },
  {
   "cell_type": "code",
   "execution_count": 76,
   "metadata": {
    "pycharm": {
     "name": "#%%\n"
    }
   },
   "outputs": [
    {
     "data": {
      "text/plain": "['AA',\n 'AC',\n 'AD',\n 'AE',\n 'AF',\n 'AG',\n 'AH',\n 'AI',\n 'AK',\n 'AL',\n 'AM',\n 'AN',\n 'AP',\n 'AQ',\n 'AR',\n 'AS',\n 'AT',\n 'AV',\n 'AW',\n 'AY',\n 'AX',\n 'AB',\n 'AZ',\n 'AJ',\n 'CA',\n 'CC',\n 'CD',\n 'CE',\n 'CF',\n 'CG',\n 'CH',\n 'CI',\n 'CK',\n 'CL',\n 'CM',\n 'CN',\n 'CP',\n 'CQ',\n 'CR',\n 'CS',\n 'CT',\n 'CV',\n 'CW',\n 'CY',\n 'CX',\n 'CB',\n 'CZ',\n 'CJ',\n 'DA',\n 'DC',\n 'DD',\n 'DE',\n 'DF',\n 'DG',\n 'DH',\n 'DI',\n 'DK',\n 'DL',\n 'DM',\n 'DN',\n 'DP',\n 'DQ',\n 'DR',\n 'DS',\n 'DT',\n 'DV',\n 'DW',\n 'DY',\n 'DX',\n 'DB',\n 'DZ',\n 'DJ',\n 'EA',\n 'EC',\n 'ED',\n 'EE',\n 'EF',\n 'EG',\n 'EH',\n 'EI',\n 'EK',\n 'EL',\n 'EM',\n 'EN',\n 'EP',\n 'EQ',\n 'ER',\n 'ES',\n 'ET',\n 'EV',\n 'EW',\n 'EY',\n 'EX',\n 'EB',\n 'EZ',\n 'EJ',\n 'FA',\n 'FC',\n 'FD',\n 'FE',\n 'FF',\n 'FG',\n 'FH',\n 'FI',\n 'FK',\n 'FL',\n 'FM',\n 'FN',\n 'FP',\n 'FQ',\n 'FR',\n 'FS',\n 'FT',\n 'FV',\n 'FW',\n 'FY',\n 'FX',\n 'FB',\n 'FZ',\n 'FJ',\n 'GA',\n 'GC',\n 'GD',\n 'GE',\n 'GF',\n 'GG',\n 'GH',\n 'GI',\n 'GK',\n 'GL',\n 'GM',\n 'GN',\n 'GP',\n 'GQ',\n 'GR',\n 'GS',\n 'GT',\n 'GV',\n 'GW',\n 'GY',\n 'GX',\n 'GB',\n 'GZ',\n 'GJ',\n 'HA',\n 'HC',\n 'HD',\n 'HE',\n 'HF',\n 'HG',\n 'HH',\n 'HI',\n 'HK',\n 'HL',\n 'HM',\n 'HN',\n 'HP',\n 'HQ',\n 'HR',\n 'HS',\n 'HT',\n 'HV',\n 'HW',\n 'HY',\n 'HX',\n 'HB',\n 'HZ',\n 'HJ',\n 'IA',\n 'IC',\n 'ID',\n 'IE',\n 'IF',\n 'IG',\n 'IH',\n 'II',\n 'IK',\n 'IL',\n 'IM',\n 'IN',\n 'IP',\n 'IQ',\n 'IR',\n 'IS',\n 'IT',\n 'IV',\n 'IW',\n 'IY',\n 'IX',\n 'IB',\n 'IZ',\n 'IJ',\n 'KA',\n 'KC',\n 'KD',\n 'KE',\n 'KF',\n 'KG',\n 'KH',\n 'KI',\n 'KK',\n 'KL',\n 'KM',\n 'KN',\n 'KP',\n 'KQ',\n 'KR',\n 'KS',\n 'KT',\n 'KV',\n 'KW',\n 'KY',\n 'KX',\n 'KB',\n 'KZ',\n 'KJ',\n 'LA',\n 'LC',\n 'LD',\n 'LE',\n 'LF',\n 'LG',\n 'LH',\n 'LI',\n 'LK',\n 'LL',\n 'LM',\n 'LN',\n 'LP',\n 'LQ',\n 'LR',\n 'LS',\n 'LT',\n 'LV',\n 'LW',\n 'LY',\n 'LX',\n 'LB',\n 'LZ',\n 'LJ',\n 'MA',\n 'MC',\n 'MD',\n 'ME',\n 'MF',\n 'MG',\n 'MH',\n 'MI',\n 'MK',\n 'ML',\n 'MM',\n 'MN',\n 'MP',\n 'MQ',\n 'MR',\n 'MS',\n 'MT',\n 'MV',\n 'MW',\n 'MY',\n 'MX',\n 'MB',\n 'MZ',\n 'MJ',\n 'NA',\n 'NC',\n 'ND',\n 'NE',\n 'NF',\n 'NG',\n 'NH',\n 'NI',\n 'NK',\n 'NL',\n 'NM',\n 'NN',\n 'NP',\n 'NQ',\n 'NR',\n 'NS',\n 'NT',\n 'NV',\n 'NW',\n 'NY',\n 'NX',\n 'NB',\n 'NZ',\n 'NJ',\n 'PA',\n 'PC',\n 'PD',\n 'PE',\n 'PF',\n 'PG',\n 'PH',\n 'PI',\n 'PK',\n 'PL',\n 'PM',\n 'PN',\n 'PP',\n 'PQ',\n 'PR',\n 'PS',\n 'PT',\n 'PV',\n 'PW',\n 'PY',\n 'PX',\n 'PB',\n 'PZ',\n 'PJ',\n 'QA',\n 'QC',\n 'QD',\n 'QE',\n 'QF',\n 'QG',\n 'QH',\n 'QI',\n 'QK',\n 'QL',\n 'QM',\n 'QN',\n 'QP',\n 'QQ',\n 'QR',\n 'QS',\n 'QT',\n 'QV',\n 'QW',\n 'QY',\n 'QX',\n 'QB',\n 'QZ',\n 'QJ',\n 'RA',\n 'RC',\n 'RD',\n 'RE',\n 'RF',\n 'RG',\n 'RH',\n 'RI',\n 'RK',\n 'RL',\n 'RM',\n 'RN',\n 'RP',\n 'RQ',\n 'RR',\n 'RS',\n 'RT',\n 'RV',\n 'RW',\n 'RY',\n 'RX',\n 'RB',\n 'RZ',\n 'RJ',\n 'SA',\n 'SC',\n 'SD',\n 'SE',\n 'SF',\n 'SG',\n 'SH',\n 'SI',\n 'SK',\n 'SL',\n 'SM',\n 'SN',\n 'SP',\n 'SQ',\n 'SR',\n 'SS',\n 'ST',\n 'SV',\n 'SW',\n 'SY',\n 'SX',\n 'SB',\n 'SZ',\n 'SJ',\n 'TA',\n 'TC',\n 'TD',\n 'TE',\n 'TF',\n 'TG',\n 'TH',\n 'TI',\n 'TK',\n 'TL',\n 'TM',\n 'TN',\n 'TP',\n 'TQ',\n 'TR',\n 'TS',\n 'TT',\n 'TV',\n 'TW',\n 'TY',\n 'TX',\n 'TB',\n 'TZ',\n 'TJ',\n 'VA',\n 'VC',\n 'VD',\n 'VE',\n 'VF',\n 'VG',\n 'VH',\n 'VI',\n 'VK',\n 'VL',\n 'VM',\n 'VN',\n 'VP',\n 'VQ',\n 'VR',\n 'VS',\n 'VT',\n 'VV',\n 'VW',\n 'VY',\n 'VX',\n 'VB',\n 'VZ',\n 'VJ',\n 'WA',\n 'WC',\n 'WD',\n 'WE',\n 'WF',\n 'WG',\n 'WH',\n 'WI',\n 'WK',\n 'WL',\n 'WM',\n 'WN',\n 'WP',\n 'WQ',\n 'WR',\n 'WS',\n 'WT',\n 'WV',\n 'WW',\n 'WY',\n 'WX',\n 'WB',\n 'WZ',\n 'WJ',\n 'YA',\n 'YC',\n 'YD',\n 'YE',\n 'YF',\n 'YG',\n 'YH',\n 'YI',\n 'YK',\n 'YL',\n 'YM',\n 'YN',\n 'YP',\n 'YQ',\n 'YR',\n 'YS',\n 'YT',\n 'YV',\n 'YW',\n 'YY',\n 'YX',\n 'YB',\n 'YZ',\n 'YJ',\n 'XA',\n 'XC',\n 'XD',\n 'XE',\n 'XF',\n 'XG',\n 'XH',\n 'XI',\n 'XK',\n 'XL',\n 'XM',\n 'XN',\n 'XP',\n 'XQ',\n 'XR',\n 'XS',\n 'XT',\n 'XV',\n 'XW',\n 'XY',\n 'XX',\n 'XB',\n 'XZ',\n 'XJ',\n 'BA',\n 'BC',\n 'BD',\n 'BE',\n 'BF',\n 'BG',\n 'BH',\n 'BI',\n 'BK',\n 'BL',\n 'BM',\n 'BN',\n 'BP',\n 'BQ',\n 'BR',\n 'BS',\n 'BT',\n 'BV',\n 'BW',\n 'BY',\n 'BX',\n 'BB',\n 'BZ',\n 'BJ',\n 'ZA',\n 'ZC',\n 'ZD',\n 'ZE',\n 'ZF',\n 'ZG',\n 'ZH',\n 'ZI',\n 'ZK',\n 'ZL',\n 'ZM',\n 'ZN',\n 'ZP',\n 'ZQ',\n 'ZR',\n 'ZS',\n 'ZT',\n 'ZV',\n 'ZW',\n 'ZY',\n 'ZX',\n 'ZB',\n 'ZZ',\n 'ZJ',\n 'JA',\n 'JC',\n 'JD',\n 'JE',\n 'JF',\n 'JG',\n 'JH',\n 'JI',\n 'JK',\n 'JL',\n 'JM',\n 'JN',\n 'JP',\n 'JQ',\n 'JR',\n 'JS',\n 'JT',\n 'JV',\n 'JW',\n 'JY',\n 'JX',\n 'JB',\n 'JZ',\n 'JJ']"
     },
     "execution_count": 76,
     "metadata": {},
     "output_type": "execute_result"
    }
   ],
   "source": [
    "#usa o KMer para obter a frequência de cada substring em cada sequência do dataset . Tamanho da substring (k): 2\n",
    "kmer = KMer_aula(k = 2, sequence = \"AA\")\n",
    "kmer_dataset = kmer.fit_transform(tfbs_dataset)\n",
    "kmer_dataset.features"
   ]
  },
  {
   "cell_type": "code",
   "execution_count": 77,
   "metadata": {
    "pycharm": {
     "name": "#%%\n"
    }
   },
   "outputs": [],
   "source": [
    "#standardizar o dataset da composição pepetídica\n",
    "kmer_dataset.X = StandardScaler().fit_transform(kmer_dataset.X)"
   ]
  },
  {
   "cell_type": "code",
   "execution_count": 78,
   "metadata": {
    "pycharm": {
     "name": "#%%\n"
    }
   },
   "outputs": [],
   "source": [
    "#divide o dataset em treino e teste\n",
    "train_dataset, test_dataset = train_test_split(kmer_dataset)"
   ]
  },
  {
   "cell_type": "code",
   "execution_count": 79,
   "metadata": {
    "pycharm": {
     "name": "#%%\n"
    }
   },
   "outputs": [],
   "source": [
    "#treina o modelo LogisticRegression no dataset de composição peptídica\n",
    "lg = LogisticRegression()\n",
    "lg.fit(train_dataset)"
   ]
  },
  {
   "cell_type": "code",
   "execution_count": 80,
   "metadata": {
    "pycharm": {
     "name": "#%%\n"
    }
   },
   "outputs": [
    {
     "data": {
      "text/plain": "0.763681592039801"
     },
     "execution_count": 80,
     "metadata": {},
     "output_type": "execute_result"
    }
   ],
   "source": [
    "#qual o score obtido?\n",
    "lg.score(test_dataset)\n"
   ]
  }
 ],
 "metadata": {
  "kernelspec": {
   "display_name": "PyCharm (sonia)",
   "language": "python",
   "name": "pycharm-e79b8fed"
  },
  "language_info": {
   "codemirror_mode": {
    "name": "ipython",
    "version": 3
   },
   "file_extension": ".py",
   "mimetype": "text/x-python",
   "name": "python",
   "nbconvert_exporter": "python",
   "pygments_lexer": "ipython3",
   "version": "3.6.13"
  }
 },
 "nbformat": 4,
 "nbformat_minor": 1
}