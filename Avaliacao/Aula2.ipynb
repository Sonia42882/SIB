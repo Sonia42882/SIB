{
 "cells": [
  {
   "cell_type": "code",
   "execution_count": 1,
   "id": "2a2b084d",
   "metadata": {},
   "outputs": [],
   "source": [
    "import numpy as np\n",
    "from si.feature_selection.select_percentile import SelectPercentile\n",
    "from si.data.dataset import Dataset\n",
    "from si.io.csv import read_csv\n",
    "from si.statistics.f_classification import f_classification"
   ]
  },
  {
   "cell_type": "code",
   "execution_count": 2,
   "id": "b5ca0478",
   "metadata": {},
   "outputs": [
    {
     "name": "stdout",
     "output_type": "stream",
     "text": [
      "(150, 4)\n"
     ]
    }
   ],
   "source": [
    "#Testar a class SelectPercentile usando o dataset iris\n",
    "iris = read_csv(\"C:/Users/sonia/SIB/datasets/iris.csv\", sep=',', features=True, label=True)\n",
    "print(iris.shape())"
   ]
  },
  {
   "cell_type": "code",
   "execution_count": 4,
   "id": "3dc37f68",
   "metadata": {},
   "outputs": [
    {
     "name": "stdout",
     "output_type": "stream",
     "text": [
      "(150, 1)\n",
      "['petal_length']\n"
     ]
    }
   ],
   "source": [
    "percent = SelectPercentile(f_classification, 20)\n",
    "percent.fit(iris)\n",
    "transformed_iris = percent.transform(iris)\n",
    "print(transformed_iris.shape())\n",
    "print(transformed_iris.features)\n"
   ]
  }
 ],
 "metadata": {
  "kernelspec": {
   "name": "pycharm-e79b8fed",
   "language": "python",
   "display_name": "PyCharm (sonia)"
  },
  "language_info": {
   "codemirror_mode": {
    "name": "ipython",
    "version": 3
   },
   "file_extension": ".py",
   "mimetype": "text/x-python",
   "name": "python",
   "nbconvert_exporter": "python",
   "pygments_lexer": "ipython3",
   "version": "3.6.13"
  }
 },
 "nbformat": 4,
 "nbformat_minor": 5
}