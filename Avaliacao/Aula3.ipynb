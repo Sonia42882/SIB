{
 "cells": [
  {
   "cell_type": "code",
   "execution_count": null,
   "id": "5ee315cc",
   "metadata": {},
   "outputs": [],
   "source": [
    "#testar o objeto PCA num jupyter notebook usando o dataset iris.csv"
   ]
  }
 ],
 "metadata": {
  "kernelspec": {
   "name": "pycharm-e79b8fed",
   "language": "python",
   "display_name": "PyCharm (sonia)"
  },
  "language_info": {
   "codemirror_mode": {
    "name": "ipython",
    "version": 3
   },
   "file_extension": ".py",
   "mimetype": "text/x-python",
   "name": "python",
   "nbconvert_exporter": "python",
   "pygments_lexer": "ipython3",
   "version": "3.8.8"
  }
 },
 "nbformat": 4,
 "nbformat_minor": 5
}