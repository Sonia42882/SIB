{
 "cells": [
  {
   "cell_type": "code",
   "execution_count": 1,
   "id": "5ee315cc",
   "metadata": {},
   "outputs": [],
   "source": [
    "import numpy as np\n",
    "from src.si.decomposition.pca import PCA\n",
    "from si.data.dataset import Dataset\n",
    "from si.io.csv import read_csv\n",
    "%matplotlib inline\n",
    "import matplotlib.pyplot as plt"
   ]
  },
  {
   "cell_type": "code",
   "execution_count": 2,
   "outputs": [],
   "source": [
    "#testar o objeto PCA num jupyter notebook usando o dataset iris.csv\n",
    "iris = read_csv(\"C:/Users/sonia/SIB/datasets/iris.csv\", sep=',', features=True, label=True)\n",
    "\n"
   ],
   "metadata": {
    "collapsed": false,
    "pycharm": {
     "name": "#%%\n"
    }
   }
  },
  {
   "cell_type": "code",
   "execution_count": 3,
   "outputs": [
    {
     "name": "stdout",
     "output_type": "stream",
     "text": [
      "[4.22484077 0.24224357]\n"
     ]
    }
   ],
   "source": [
    "#baseado nos slides da aula teórica (Professor Miguel Rocha)\n",
    "n = 2\n",
    "pca_iris = PCA(n_components = n)\n",
    "pca_iris.fit(iris)\n",
    "pca_iris.transform(iris)\n",
    "print(pca_iris.explained_variance)\n"
   ],
   "metadata": {
    "collapsed": false,
    "pycharm": {
     "name": "#%%\n"
    }
   }
  },
  {
   "cell_type": "code",
   "execution_count": 4,
   "outputs": [
    {
     "data": {
      "text/plain": "<Figure size 432x288 with 1 Axes>",
      "image/png": "[encoded data removed]"
     },
     "metadata": {
      "needs_background": "light"
     },
     "output_type": "display_data"
    }
   ],
   "source": [
    "#baseado nos slides da aula teórica (Professor Miguel Rocha)\n",
    "plt.bar(range(n), pca_iris.explained_variance*100)\n",
    "plt.xticks(range(n), [\"PC\" + str(i) for i in range(1, n+1)])\n",
    "plt.title(\"Variância explicada por PC\")\n",
    "plt.ylabel(\"Percentagem\")\n",
    "plt.show()\n",
    "\n",
    "\n",
    "\n"
   ],
   "metadata": {
    "collapsed": false,
    "pycharm": {
     "name": "#%%\n"
    }
   }
  }
 ],
 "metadata": {
  "kernelspec": {
   "name": "pycharm-e79b8fed",
   "language": "python",
   "display_name": "PyCharm (sonia)"
  },
  "language_info": {
   "codemirror_mode": {
    "name": "ipython",
    "version": 3
   },
   "file_extension": ".py",
   "mimetype": "text/x-python",
   "name": "python",
   "nbconvert_exporter": "python",
   "pygments_lexer": "ipython3",
   "version": "3.8.8"
  }
 },
 "nbformat": 4,
 "nbformat_minor": 5
}