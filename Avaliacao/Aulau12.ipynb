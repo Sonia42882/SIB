{
 "cells": [
  {
   "cell_type": "code",
   "execution_count": 37,
   "outputs": [],
   "source": [
    "#imports\n",
    "from src.si.data import dataset\n",
    "from src.si.neuronal_networks.nn import NN\n",
    "from src.si.neuronal_networks.layer import Dense\n",
    "from src.si.neuronal_networks.layer import SigmoidActivation\n",
    "from src.si.neuronal_networks.layer import SoftMaxActivation\n",
    "from src.si.neuronal_networks.layer import ReLUActivation\n",
    "from src.si.metrics.cross_entropy import cross_entropy\n",
    "from src.si.metrics.cross_entropy import cross_entropy_derivative\n",
    "from src.si.linear_model.ridge_regression import RidgeRegression\n",
    "from src.si.linear_model.logistic_regression import LogisticRegression\n",
    "from src.si.model_selection.split import train_test_split\n",
    "import matplotlib.pyplot as plt\n",
    "from src.si.io.csv import read_csv\n",
    "from sklearn.preprocessing import StandardScaler"
   ],
   "metadata": {
    "collapsed": false,
    "pycharm": {
     "name": "#%%\n"
    }
   }
  },
  {
   "cell_type": "code",
   "execution_count": 38,
   "outputs": [
    {
     "name": "stdout",
     "output_type": "stream",
     "text": [
      "(419, 9)\n",
      "(279, 9)\n"
     ]
    }
   ],
   "source": [
    "#Constrói um modelo de redes neuronais adequado ao dataset breast bin.csv\n",
    "breast_dataset = read_csv('../datasets/breast-bin.csv', features=False, label=True)\n",
    "breast_dataset.X = StandardScaler().fit_transform(breast_dataset.X)\n",
    "\n",
    "train_dataset, test_dataset = train_test_split(breast_dataset, test_size=0.4)\n",
    "print(train_dataset.shape())\n",
    "print(test_dataset.shape())"
   ],
   "metadata": {
    "collapsed": false,
    "pycharm": {
     "name": "#%%\n"
    }
   }
  },
  {
   "cell_type": "code",
   "execution_count": 39,
   "outputs": [],
   "source": [
    "layer1 = Dense(input_size=9, output_size=9)\n",
    "layer2 = Dense(input_size=9, output_size=5)\n",
    "layer3 = Dense(input_size=5, output_size=1)\n",
    "\n",
    "layer1_act = ReLUActivation()\n",
    "layer2_act = ReLUActivation()\n",
    "layer3_act = SigmoidActivation()\n",
    "\n",
    "model_breast = NN(\n",
    "    layers=[layer1, layer1_act, layer2, layer2_act, layer3, layer3_act], loss=cross_entropy, loss_derivative=cross_entropy_derivative, verbose=True)"
   ],
   "metadata": {
    "collapsed": false,
    "pycharm": {
     "name": "#%%\n"
    }
   }
  },
  {
   "cell_type": "code",
   "execution_count": 40,
   "outputs": [
    {
     "ename": "TypeError",
     "evalue": "backward() takes 2 positional arguments but 3 were given",
     "output_type": "error",
     "traceback": [
      "\u001B[1;31m---------------------------------------------------------------------------\u001B[0m",
      "\u001B[1;31mTypeError\u001B[0m                                 Traceback (most recent call last)",
      "\u001B[1;32m<ipython-input-40-9c96465d204e>\u001B[0m in \u001B[0;36m<module>\u001B[1;34m\u001B[0m\n\u001B[1;32m----> 1\u001B[1;33m \u001B[0mmodel_breast\u001B[0m\u001B[1;33m.\u001B[0m\u001B[0mfit\u001B[0m\u001B[1;33m(\u001B[0m\u001B[0mdataset\u001B[0m\u001B[1;33m=\u001B[0m \u001B[0mtrain_dataset\u001B[0m\u001B[1;33m)\u001B[0m\u001B[1;33m\u001B[0m\u001B[1;33m\u001B[0m\u001B[0m\n\u001B[0m\u001B[0;32m      2\u001B[0m \u001B[1;33m\u001B[0m\u001B[0m\n",
      "\u001B[1;32m~\\SIB\\src\\si\\neuronal_networks\\nn.py\u001B[0m in \u001B[0;36mfit\u001B[1;34m(self, dataset)\u001B[0m\n\u001B[0;32m     93\u001B[0m             \u001B[0merror\u001B[0m \u001B[1;33m=\u001B[0m \u001B[0mself\u001B[0m\u001B[1;33m.\u001B[0m\u001B[0mloss_derivative\u001B[0m\u001B[1;33m(\u001B[0m\u001B[0my\u001B[0m\u001B[1;33m,\u001B[0m \u001B[0mX\u001B[0m\u001B[1;33m)\u001B[0m\u001B[1;33m\u001B[0m\u001B[1;33m\u001B[0m\u001B[0m\n\u001B[0;32m     94\u001B[0m             \u001B[1;32mfor\u001B[0m \u001B[0mlayer\u001B[0m \u001B[1;32min\u001B[0m \u001B[0mself\u001B[0m\u001B[1;33m.\u001B[0m\u001B[0mlayers\u001B[0m\u001B[1;33m[\u001B[0m\u001B[1;33m:\u001B[0m\u001B[1;33m:\u001B[0m\u001B[1;33m-\u001B[0m\u001B[1;36m1\u001B[0m\u001B[1;33m]\u001B[0m\u001B[1;33m:\u001B[0m\u001B[1;33m\u001B[0m\u001B[1;33m\u001B[0m\u001B[0m\n\u001B[1;32m---> 95\u001B[1;33m                 \u001B[0merror\u001B[0m \u001B[1;33m=\u001B[0m \u001B[0mlayer\u001B[0m\u001B[1;33m.\u001B[0m\u001B[0mbackward\u001B[0m\u001B[1;33m(\u001B[0m\u001B[0merror\u001B[0m\u001B[1;33m,\u001B[0m \u001B[0mself\u001B[0m\u001B[1;33m.\u001B[0m\u001B[0mlearning_rate\u001B[0m\u001B[1;33m)\u001B[0m\u001B[1;33m\u001B[0m\u001B[1;33m\u001B[0m\u001B[0m\n\u001B[0m\u001B[0;32m     96\u001B[0m \u001B[1;33m\u001B[0m\u001B[0m\n\u001B[0;32m     97\u001B[0m             \u001B[1;31m# save history\u001B[0m\u001B[1;33m\u001B[0m\u001B[1;33m\u001B[0m\u001B[1;33m\u001B[0m\u001B[0m\n",
      "\u001B[1;31mTypeError\u001B[0m: backward() takes 2 positional arguments but 3 were given"
     ]
    }
   ],
   "source": [
    "model_breast.fit(dataset= train_dataset)\n"
   ],
   "metadata": {
    "collapsed": false,
    "pycharm": {
     "name": "#%%\n"
    }
   }
  },
  {
   "cell_type": "code",
   "execution_count": null,
   "outputs": [],
   "source": [
    "model_breast.predict(dataset= train_dataset)\n"
   ],
   "metadata": {
    "collapsed": false,
    "pycharm": {
     "name": "#%%\n"
    }
   }
  },
  {
   "cell_type": "code",
   "execution_count": 42,
   "outputs": [
    {
     "name": "stdout",
     "output_type": "stream",
     "text": [
      "(126, 6)\n",
      "(83, 6)\n"
     ]
    }
   ],
   "source": [
    "#Constrói um modelo de redes neuronais adequado ao dataset cpu.csv\n",
    "cpu_dataset = read_csv('../datasets/cpu.csv', features=True, label=True)\n",
    "cpu_dataset.X = StandardScaler().fit_transform(cpu_dataset.X)\n",
    "\n",
    "train_dataset, test_dataset = train_test_split(cpu_dataset, test_size=0.4)\n",
    "print(train_dataset.shape())\n",
    "print(test_dataset.shape())"
   ],
   "metadata": {
    "collapsed": false,
    "pycharm": {
     "name": "#%%\n"
    }
   }
  },
  {
   "cell_type": "code",
   "execution_count": 43,
   "outputs": [],
   "source": [
    "layer1 = Dense(input_size=6, output_size=6)\n",
    "layer2 = Dense(input_size=6, output_size=4)\n",
    "layer3 = Dense(input_size=4, output_size=1)\n",
    "\n",
    "layer1_act = ReLUActivation()\n",
    "layer2_act = ReLUActivation()\n",
    "layer3_act = SigmoidActivation()\n",
    "\n",
    "model_cpu = NN(\n",
    "    layers=[layer1, layer1_act, layer2, layer2_act, layer3, layer3_act], loss=cross_entropy, loss_derivative=cross_entropy_derivative, verbose=True)\n"
   ],
   "metadata": {
    "collapsed": false,
    "pycharm": {
     "name": "#%%\n"
    }
   }
  },
  {
   "cell_type": "code",
   "execution_count": 44,
   "outputs": [
    {
     "ename": "TypeError",
     "evalue": "backward() takes 2 positional arguments but 3 were given",
     "output_type": "error",
     "traceback": [
      "\u001B[1;31m---------------------------------------------------------------------------\u001B[0m",
      "\u001B[1;31mTypeError\u001B[0m                                 Traceback (most recent call last)",
      "\u001B[1;32m<ipython-input-44-2a00b4b928a4>\u001B[0m in \u001B[0;36m<module>\u001B[1;34m\u001B[0m\n\u001B[1;32m----> 1\u001B[1;33m \u001B[0mmodel_cpu\u001B[0m\u001B[1;33m.\u001B[0m\u001B[0mfit\u001B[0m\u001B[1;33m(\u001B[0m\u001B[0mdataset\u001B[0m\u001B[1;33m=\u001B[0m \u001B[0mtrain_dataset\u001B[0m\u001B[1;33m)\u001B[0m\u001B[1;33m\u001B[0m\u001B[1;33m\u001B[0m\u001B[0m\n\u001B[0m\u001B[0;32m      2\u001B[0m \u001B[1;33m\u001B[0m\u001B[0m\n",
      "\u001B[1;32m~\\SIB\\src\\si\\neuronal_networks\\nn.py\u001B[0m in \u001B[0;36mfit\u001B[1;34m(self, dataset)\u001B[0m\n\u001B[0;32m     93\u001B[0m             \u001B[0merror\u001B[0m \u001B[1;33m=\u001B[0m \u001B[0mself\u001B[0m\u001B[1;33m.\u001B[0m\u001B[0mloss_derivative\u001B[0m\u001B[1;33m(\u001B[0m\u001B[0my\u001B[0m\u001B[1;33m,\u001B[0m \u001B[0mX\u001B[0m\u001B[1;33m)\u001B[0m\u001B[1;33m\u001B[0m\u001B[1;33m\u001B[0m\u001B[0m\n\u001B[0;32m     94\u001B[0m             \u001B[1;32mfor\u001B[0m \u001B[0mlayer\u001B[0m \u001B[1;32min\u001B[0m \u001B[0mself\u001B[0m\u001B[1;33m.\u001B[0m\u001B[0mlayers\u001B[0m\u001B[1;33m[\u001B[0m\u001B[1;33m:\u001B[0m\u001B[1;33m:\u001B[0m\u001B[1;33m-\u001B[0m\u001B[1;36m1\u001B[0m\u001B[1;33m]\u001B[0m\u001B[1;33m:\u001B[0m\u001B[1;33m\u001B[0m\u001B[1;33m\u001B[0m\u001B[0m\n\u001B[1;32m---> 95\u001B[1;33m                 \u001B[0merror\u001B[0m \u001B[1;33m=\u001B[0m \u001B[0mlayer\u001B[0m\u001B[1;33m.\u001B[0m\u001B[0mbackward\u001B[0m\u001B[1;33m(\u001B[0m\u001B[0merror\u001B[0m\u001B[1;33m,\u001B[0m \u001B[0mself\u001B[0m\u001B[1;33m.\u001B[0m\u001B[0mlearning_rate\u001B[0m\u001B[1;33m)\u001B[0m\u001B[1;33m\u001B[0m\u001B[1;33m\u001B[0m\u001B[0m\n\u001B[0m\u001B[0;32m     96\u001B[0m \u001B[1;33m\u001B[0m\u001B[0m\n\u001B[0;32m     97\u001B[0m             \u001B[1;31m# save history\u001B[0m\u001B[1;33m\u001B[0m\u001B[1;33m\u001B[0m\u001B[1;33m\u001B[0m\u001B[0m\n",
      "\u001B[1;31mTypeError\u001B[0m: backward() takes 2 positional arguments but 3 were given"
     ]
    }
   ],
   "source": [
    "model_cpu.fit(dataset= train_dataset)\n"
   ],
   "metadata": {
    "collapsed": false,
    "pycharm": {
     "name": "#%%\n"
    }
   }
  },
  {
   "cell_type": "code",
   "execution_count": 45,
   "outputs": [
    {
     "data": {
      "text/plain": "array([[0.50000002],\n       [0.50000006],\n       [0.50000019],\n       [0.50000259],\n       [0.5       ],\n       [0.50000003],\n       [0.50000097],\n       [0.5       ],\n       [0.5       ],\n       [0.50000011],\n       [0.5       ],\n       [0.50000006],\n       [0.5       ],\n       [0.5       ],\n       [0.50000112],\n       [0.5       ],\n       [0.5       ],\n       [0.50000127],\n       [0.49999927],\n       [0.50000012],\n       [0.5       ],\n       [0.49999868],\n       [0.49999761],\n       [0.50000002],\n       [0.5       ],\n       [0.5       ],\n       [0.50000004],\n       [0.4999992 ],\n       [0.49999927],\n       [0.5       ],\n       [0.49999975],\n       [0.5       ],\n       [0.5       ],\n       [0.5       ],\n       [0.50000011],\n       [0.5       ],\n       [0.49999984],\n       [0.49999819],\n       [0.5       ],\n       [0.50000052],\n       [0.5       ],\n       [0.5       ],\n       [0.5       ],\n       [0.5       ],\n       [0.50000019],\n       [0.5       ],\n       [0.5       ],\n       [0.5       ],\n       [0.50000261],\n       [0.5       ],\n       [0.5       ],\n       [0.5       ],\n       [0.5       ],\n       [0.5       ],\n       [0.5       ],\n       [0.50000106],\n       [0.49999902],\n       [0.5       ],\n       [0.5       ],\n       [0.50000007],\n       [0.5       ],\n       [0.50000016],\n       [0.5       ],\n       [0.50000003],\n       [0.49999896],\n       [0.5       ],\n       [0.5       ],\n       [0.5       ],\n       [0.5       ],\n       [0.4999992 ],\n       [0.49999761],\n       [0.50000129],\n       [0.50000011],\n       [0.5       ],\n       [0.5       ],\n       [0.49999937],\n       [0.50000005],\n       [0.5       ],\n       [0.5000001 ],\n       [0.50000112],\n       [0.50000005],\n       [0.5       ],\n       [0.5       ],\n       [0.5       ],\n       [0.5       ],\n       [0.5       ],\n       [0.50000003],\n       [0.49999725],\n       [0.50000021],\n       [0.50000004],\n       [0.50000117],\n       [0.50000087],\n       [0.5       ],\n       [0.50000005],\n       [0.49999951],\n       [0.50000112],\n       [0.50000004],\n       [0.50000014],\n       [0.5       ],\n       [0.50000112],\n       [0.5       ],\n       [0.5       ],\n       [0.50000002],\n       [0.5       ],\n       [0.5       ],\n       [0.49999484],\n       [0.5       ],\n       [0.50000004],\n       [0.5       ],\n       [0.49999999],\n       [0.49999978],\n       [0.50000167],\n       [0.50000015],\n       [0.50000005],\n       [0.5       ],\n       [0.5       ],\n       [0.49999989],\n       [0.50000027],\n       [0.5       ],\n       [0.49999993],\n       [0.5       ],\n       [0.50000025],\n       [0.50000001],\n       [0.5       ],\n       [0.5       ],\n       [0.50000165]])"
     },
     "execution_count": 45,
     "metadata": {},
     "output_type": "execute_result"
    }
   ],
   "source": [
    "model_cpu.predict(dataset= train_dataset)\n",
    "\n"
   ],
   "metadata": {
    "collapsed": false,
    "pycharm": {
     "name": "#%%\n"
    }
   }
  }
 ],
 "metadata": {
  "kernelspec": {
   "name": "pycharm-e79b8fed",
   "language": "python",
   "display_name": "PyCharm (sonia)"
  },
  "language_info": {
   "codemirror_mode": {
    "name": "ipython",
    "version": 2
   },
   "file_extension": ".py",
   "mimetype": "text/x-python",
   "name": "python",
   "nbconvert_exporter": "python",
   "pygments_lexer": "ipython2",
   "version": "2.7.6"
  }
 },
 "nbformat": 4,
 "nbformat_minor": 0
}