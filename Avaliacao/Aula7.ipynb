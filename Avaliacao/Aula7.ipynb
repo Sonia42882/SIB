{
 "cells": [
  {
   "cell_type": "code",
   "execution_count": 3,
   "metadata": {
    "collapsed": true
   },
   "outputs": [],
   "source": [
    "# imports\n",
    "import numpy as np\n",
    "from sklearn.preprocessing import StandardScaler\n",
    "from si.io.csv import read_csv\n",
    "from si.linear_model.logistic_regression import LogisticRegression\n",
    "from si.model_selection.cross_validate import cross_validate\n",
    "from si.model_selection.randomized_search_cv import randomized_search_cv\n"
   ]
  },
  {
   "cell_type": "code",
   "execution_count": 4,
   "outputs": [],
   "source": [
    "#exercicio 8.2\n",
    "#Usa o dataset breast bin.csv\n",
    "breast_dataset = read_csv('../datasets/breast-bin.csv', features=False, label=True)\n",
    "\n",
    "#Usa o sklearn.preprocessing.StandardScaler para standardizar os dados\n",
    "breast_dataset.X = StandardScaler().fit_transform(breast_dataset.X)"
   ],
   "metadata": {
    "collapsed": false,
    "pycharm": {
     "name": "#%%\n"
    }
   }
  },
  {
   "cell_type": "code",
   "execution_count": 5,
   "outputs": [
    {
     "data": {
      "text/plain": "{'seeds': [574, 784, 184, 692, 842],\n 'train': [0.9731663685152058,\n  0.9731663685152058,\n  0.9660107334525939,\n  0.9695885509838998,\n  0.9677996422182469],\n 'test': [0.9424460431654677,\n  0.9424460431654677,\n  0.9712230215827338,\n  0.9568345323741008,\n  0.9712230215827338]}"
     },
     "execution_count": 5,
     "metadata": {},
     "output_type": "execute_result"
    }
   ],
   "source": [
    "#Cria o modelo LogisticRegression\n",
    "lg = LogisticRegression()\n",
    "scores = cross_validate(lg, breast_dataset, cv=5)\n",
    "scores"
   ],
   "metadata": {
    "collapsed": false,
    "pycharm": {
     "name": "#%%\n"
    }
   }
  },
  {
   "cell_type": "code",
   "execution_count": 6,
   "outputs": [
    {
     "name": "stdout",
     "output_type": "stream",
     "text": [
      "{'parameters': [{'l2_penalty': 2, 'alpha': 0.0005818181818181818, 'max_iter': 1994}, {'l2_penalty': 5, 'alpha': 0.0009272727272727273, 'max_iter': 1346}, {'l2_penalty': 7, 'alpha': 0.0005909090909090909, 'max_iter': 1477}, {'l2_penalty': 2, 'alpha': 0.0006000000000000001, 'max_iter': 1673}, {'l2_penalty': 1, 'alpha': 0.0009727272727272728, 'max_iter': 1633}, {'l2_penalty': 7, 'alpha': 0.00032727272727272726, 'max_iter': 1773}, {'l2_penalty': 10, 'alpha': 0.0006363636363636364, 'max_iter': 1371}, {'l2_penalty': 4, 'alpha': 0.00045454545454545455, 'max_iter': 1547}, {'l2_penalty': 4, 'alpha': 0.0006363636363636364, 'max_iter': 1035}, {'l2_penalty': 5, 'alpha': 0.00044545454545454543, 'max_iter': 1788}], 'seed': [951, 539, 701, 67, 137, 229, 857, 514, 845, 751], 'train': [[0.964221824686941, 0.9713774597495528, 0.9660107334525939], [0.9660107334525939, 0.9713774597495528, 0.9713774597495528], [0.9677996422182469, 0.962432915921288, 0.962432915921288], [0.9660107334525939, 0.964221824686941, 0.9677996422182469], [0.9660107334525939, 0.9677996422182469, 0.964221824686941], [0.9695885509838998, 0.9695885509838998, 0.964221824686941], [0.964221824686941, 0.9660107334525939, 0.9660107334525939], [0.9713774597495528, 0.964221824686941, 0.9660107334525939], [0.9660107334525939, 0.964221824686941, 0.962432915921288], [0.964221824686941, 0.964221824686941, 0.962432915921288]], 'test': [[0.9784172661870504, 0.9496402877697842, 0.9712230215827338], [0.9712230215827338, 0.9496402877697842, 0.9496402877697842], [0.9640287769784173, 0.9856115107913669, 0.9856115107913669], [0.9712230215827338, 0.9784172661870504, 0.9640287769784173], [0.9712230215827338, 0.9640287769784173, 0.9784172661870504], [0.9568345323741008, 0.9568345323741008, 0.9784172661870504], [0.9784172661870504, 0.9712230215827338, 0.9712230215827338], [0.9496402877697842, 0.9784172661870504, 0.9712230215827338], [0.9712230215827338, 0.9784172661870504, 0.9856115107913669], [0.9784172661870504, 0.9784172661870504, 0.9856115107913669]]}\n"
     ]
    }
   ],
   "source": [
    "#Realiza uma procura aleatória com as seguintes distribuições de parâmetros\n",
    "parameter_grid = {\n",
    "    'l2_penalty': np.linspace(1, 10, 10).astype(int),\n",
    "    'alpha': np.linspace(0.001, 0.0001,100),\n",
    "    'max_iter': np.linspace(1000, 2000, 200).astype(int)\n",
    "}\n",
    "\n",
    "# cross validate the model\n",
    "scores1 = randomized_search_cv(model=lg,\n",
    "                        dataset=breast_dataset,\n",
    "                        parameter_distribution=parameter_grid,\n",
    "                        cv=3)\n",
    "\n",
    "print(scores1)"
   ],
   "metadata": {
    "collapsed": false,
    "pycharm": {
     "name": "#%%\n"
    }
   }
  }
 ],
 "metadata": {
  "kernelspec": {
   "name": "pycharm-e79b8fed",
   "language": "python",
   "display_name": "PyCharm (sonia)"
  },
  "language_info": {
   "codemirror_mode": {
    "name": "ipython",
    "version": 2
   },
   "file_extension": ".py",
   "mimetype": "text/x-python",
   "name": "python",
   "nbconvert_exporter": "python",
   "pygments_lexer": "ipython2",
   "version": "2.7.6"
  }
 },
 "nbformat": 4,
 "nbformat_minor": 0
}