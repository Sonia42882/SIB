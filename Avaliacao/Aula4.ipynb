{
 "cells": [
  {
   "cell_type": "code",
   "execution_count": 1,
   "metadata": {
    "collapsed": true
   },
   "outputs": [],
   "source": [
    "#testar o objeto KNNRegressor num jupyter notebook usando o dataset cpu.csv (regressão)\n",
    "from si.io.csv import read_csv\n",
    "from si.model_selection.split import train_test_split\n",
    "from si.neighbors.knn_regressor import KNNRegressor\n"
   ]
  },
  {
   "cell_type": "code",
   "execution_count": 2,
   "outputs": [],
   "source": [
    "cpu_dataset = read_csv('../datasets/cpu.csv', features=True, label=True)\n",
    "train_dataset, test_dataset = train_test_split(cpu_dataset)\n"
   ],
   "metadata": {
    "collapsed": false,
    "pycharm": {
     "name": "#%%\n"
    }
   }
  },
  {
   "cell_type": "code",
   "execution_count": 3,
   "outputs": [
    {
     "name": "stdout",
     "output_type": "stream",
     "text": [
      "Predictions\n",
      "[192.   31.   31.  893.   18.  323.5  51.   26.5 893.  127.5  67.   76.\n",
      "  54.   63.5  94.   30.   75.   18.5 162.   56.   78.   78.  115.5  33.5\n",
      "  14.5  81.5  21.5  31.   21.5  79.5 344.   31.  115.5  21.   18.   39.\n",
      "  32.  416.   94.   27.5 127.5]\n"
     ]
    }
   ],
   "source": [
    "knn = KNNRegressor(k = 2)\n",
    "knn.fit(train_dataset)\n",
    "predictions = knn.predict(test_dataset)\n",
    "predictions\n",
    "print(\"Predictions\")\n",
    "print(predictions)"
   ],
   "metadata": {
    "collapsed": false,
    "pycharm": {
     "name": "#%%\n"
    }
   }
  },
  {
   "cell_type": "code",
   "execution_count": 4,
   "outputs": [
    {
     "name": "stdout",
     "output_type": "stream",
     "text": [
      "Score\n",
      "61.366501945080834\n"
     ]
    }
   ],
   "source": [
    "print(\"Score\")\n",
    "score = knn.score(test_dataset)\n",
    "print(score)\n"
   ],
   "metadata": {
    "collapsed": false,
    "pycharm": {
     "name": "#%%\n"
    }
   }
  }
 ],
 "metadata": {
  "kernelspec": {
   "name": "pycharm-e79b8fed",
   "language": "python",
   "display_name": "PyCharm (sonia)"
  },
  "language_info": {
   "codemirror_mode": {
    "name": "ipython",
    "version": 2
   },
   "file_extension": ".py",
   "mimetype": "text/x-python",
   "name": "python",
   "nbconvert_exporter": "python",
   "pygments_lexer": "ipython2",
   "version": "2.7.6"
  }
 },
 "nbformat": 4,
 "nbformat_minor": 0
}