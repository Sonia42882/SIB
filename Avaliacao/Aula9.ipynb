{
 "cells": [
  {
   "cell_type": "code",
   "execution_count": null,
   "metadata": {
    "collapsed": true
   },
   "outputs": [],
   "source": [
    "# imports\n",
    "import numpy as np\n",
    "from si.data.dataset import Dataset\n",
    "from src.si.neuronal_networkstworks.nn import NN\n",
    "from src.si.neuronal_networksworks.layer import Dense, SigmoidActivation, SoftMaxActivation, ReLUActivation, LinearActivation"
   ]
  },
  {
   "cell_type": "code",
   "execution_count": null,
   "outputs": [],
   "source": [
    "#10.3) Constrói um modelo de redes neuronais\n",
    "#dataset de treino contém 32 features\n",
    "#problema do tipo binário\n",
    "#3 Dense layers (input, metade, output)\n",
    "#SigmoidActivation como layer de ativação\n",
    "\n",
    "layer1 = Dense(input_size = 32, output_size=32)\n",
    "layer2 = Dense(input_size = 32, output_size=16)\n",
    "layer3 = Dense(input_size = 16, output_size=1)\n",
    "\n",
    "layer1_act = SigmoidActivation()\n",
    "layer2_act = SigmoidActivation()\n",
    "layer3_act = SigmoidActivation()\n",
    "\n",
    "model_bin = NN(layers=[ layer1, layer1_act, layer2, layer2_act, layer3, layer3_act])"
   ],
   "metadata": {
    "collapsed": false,
    "pycharm": {
     "name": "#%%\n"
    }
   }
  },
  {
   "cell_type": "code",
   "execution_count": null,
   "outputs": [],
   "source": [
    "#10.4) Constrói um modelo de redes neuronais\n",
    "#dataset de treino contém 32 features\n",
    "#problema do tipo multiclass com 3 classes\n",
    "#3 Dense layers (input, metade, output)\n",
    "#SigmoidActivation como layer de ativação\n",
    "#SoftMaxActivation como última layer de ativação\n",
    "\n",
    "layer1 = Dense(input_size = 32, output_size=32)\n",
    "layer2 = Dense(input_size = 32, output_size=16)\n",
    "layer3 = Dense(input_size = 16, output_size=1)\n",
    "\n",
    "layer1_act = SigmoidActivation()\n",
    "layer2_act = SigmoidActivation()\n",
    "layer3_act = SoftMaxActivation()\n",
    "\n",
    "model_multi = NN(layers=[ layer1, layer1_act, layer2, layer2_act, layer3, layer3_act])"
   ],
   "metadata": {
    "collapsed": false,
    "pycharm": {
     "name": "#%%\n"
    }
   }
  },
  {
   "cell_type": "code",
   "execution_count": null,
   "outputs": [],
   "source": [
    "#10.5) Constrói um modelo de redes neuronais\n",
    "#dataset de treino contém 32 features\n",
    "#problema do tipo regressão\n",
    "#3 Dense layers (input, metade, output)\n",
    "#ReLU como layer de ativação\n",
    "#acaba com uma ativação linear\n",
    "\n",
    "layer1 = Dense(input_size = 32, output_size=32)\n",
    "layer2 = Dense(input_size = 32, output_size=16)\n",
    "layer3 = Dense(input_size = 16, output_size=1)\n",
    "\n",
    "layer1_act = ReLUActivation()\n",
    "layer2_act = ReLUActivation()\n",
    "layer3_act = LinearActivation() ###confirmar\n",
    "\n",
    "model_bin = NN(layers=[ layer1, layer1_act, layer2, layer2_act, layer3, layer3_act])\n",
    "\n"
   ],
   "metadata": {
    "collapsed": false,
    "pycharm": {
     "name": "#%%\n"
    }
   }
  }
 ],
 "metadata": {
  "kernelspec": {
   "display_name": "Python 3",
   "language": "python",
   "name": "python3"
  },
  "language_info": {
   "codemirror_mode": {
    "name": "ipython",
    "version": 2
   },
   "file_extension": ".py",
   "mimetype": "text/x-python",
   "name": "python",
   "nbconvert_exporter": "python",
   "pygments_lexer": "ipython2",
   "version": "2.7.6"
  }
 },
 "nbformat": 4,
 "nbformat_minor": 0
}